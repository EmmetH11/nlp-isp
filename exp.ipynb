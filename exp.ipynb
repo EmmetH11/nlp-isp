{
 "cells": [
  {
   "cell_type": "code",
   "execution_count": null,
   "metadata": {},
   "outputs": [],
   "source": [
    "import gzip\n",
    "import json\n",
    "from config import DATASET_PATH\n",
    "\n",
    "# Read dataset from the file\n",
    "f = gzip.open(DATASET_PATH, \"r\")\n",
    "# Process the lines into a preliminary dictionary\n",
    "full_dataset = [json.loads(line) for line in f.readlines()]\n",
    "f.close()"
   ]
  },
  {
   "cell_type": "code",
   "execution_count": 65,
   "metadata": {},
   "outputs": [
    {
     "name": "stdout",
     "output_type": "stream",
     "text": [
      "999\n",
      "999\n",
      "999\n"
     ]
    },
    {
     "name": "stderr",
     "output_type": "stream",
     "text": [
      "C:\\Users\\emmet\\AppData\\Local\\Programs\\Python\\Python39\\lib\\site-packages\\sklearn\\utils\\deprecation.py:87: FutureWarning: Function get_feature_names is deprecated; get_feature_names is deprecated in 1.0 and will be removed in 1.2. Please use get_feature_names_out instead.\n",
      "  warnings.warn(msg, category=FutureWarning)\n"
     ]
    }
   ],
   "source": [
    "import gzip\n",
    "import json\n",
    "from config import BIGRAM_DATASET_PATH\n",
    "from sklearn.feature_extraction.text import TfidfVectorizer\n",
    "import pandas as pd\n",
    "from autocorrect import Speller\n",
    "\n",
    "spell = Speller(lang='en')\n",
    "depth = 1000\n",
    "# depth = len(lines)\n",
    "\n",
    "# Read dataset from the file\n",
    "f = gzip.open(BIGRAM_DATASET_PATH, \"r\")\n",
    "# Process the lines into a preliminary dictionary\n",
    "body = f.read().decode('utf8')\n",
    "lines = body.splitlines()\n",
    "f.close()\n",
    "raw = [{}]*len(lines)\n",
    "for i in range(1, depth):\n",
    "    bigrams = lines[i].split(\" \")\n",
    "    raw[i] = {}\n",
    "    for bigram in bigrams:\n",
    "            try:\n",
    "                colon = bigram.index(\":\")\n",
    "                key = bigram[:colon]\n",
    "                words = key.split(\"_\")\n",
    "                key = \"_\".join([spell(word) for word in words])\n",
    "                if not any(str.isdigit(c) for c in key):\n",
    "                    raw[i][key] = bigram[colon + 1:]\n",
    "            except:\n",
    "                continue\n",
    "labels = []\n",
    "lineDicts = []\n",
    "for line in raw:\n",
    "    try:\n",
    "        labels.append(float(line[\"#label#\"]))\n",
    "        del line[\"#label#\"]\n",
    "        lineDicts.append(line)\n",
    "    except KeyError:\n",
    "        continue\n",
    "\n",
    "print(len(labels))\n",
    "print(len(lineDicts))\n",
    "\n",
    "lineStrings = []\n",
    "for i in range(0, len(lineDicts)):\n",
    "    linestr = \"\"\n",
    "    for key, value in lineDicts[i].items():\n",
    "        linestr += ((key + \" \")*int(value))\n",
    "    lineStrings.append(linestr)\n",
    "\n",
    "print(len(lineStrings))\n",
    "\n",
    "tfidf_vectorizer = TfidfVectorizer()\n",
    "bag_of_words = tfidf_vectorizer.fit_transform(lineStrings)\n",
    "feature_names = tfidf_vectorizer.get_feature_names()\n",
    "features = pd.DataFrame(bag_of_words.toarray(), columns = feature_names)"
   ]
  },
  {
   "cell_type": "code",
   "execution_count": null,
   "metadata": {},
   "outputs": [],
   "source": [
    "from data_processing import clean_dataset\n",
    "\n",
    "# process the data (lemmatize, feature generation)\n",
    "features, labels = clean_dataset(full_dataset, 5000)"
   ]
  },
  {
   "cell_type": "code",
   "execution_count": 67,
   "metadata": {},
   "outputs": [
    {
     "data": {
      "image/png": "[encoded data removed]",
      "text/plain": [
       "<Figure size 432x288 with 1 Axes>"
      ]
     },
     "metadata": {
      "needs_background": "light"
     },
     "output_type": "display_data"
    }
   ],
   "source": [
    "import matplotlib.pyplot as plt \n",
    "# Visualize the ratings distribution\n",
    "plt.hist(labels, density=True, bins=10)\n",
    "plt.ylabel('Frequency')\n",
    "plt.xlabel('Rating')\n",
    "plt.show()"
   ]
  },
  {
   "cell_type": "code",
   "execution_count": 53,
   "metadata": {},
   "outputs": [
    {
     "name": "stdout",
     "output_type": "stream",
     "text": [
      "    _a  _advice  _although  _and  _articles  _as  _ascending  _ballantine  \\\n",
      "0  0.0      0.0        0.0   0.0   0.000000  0.0         0.0          0.0   \n",
      "1  0.0      0.0        0.0   0.0   0.000000  0.0         0.0          0.0   \n",
      "2  0.0      0.0        0.0   0.0   0.000000  0.0         0.0          0.0   \n",
      "3  0.0      0.0        0.0   0.0   0.000000  0.0         0.0          0.0   \n",
      "4  0.0      0.0        0.0   0.0   0.035599  0.0         0.0          0.0   \n",
      "\n",
      "   _because  _billion  ...  your_heart  your_library  your_own  \\\n",
      "0       0.0  0.000000  ...         0.0           0.0       0.0   \n",
      "1       0.0  0.000000  ...         0.0           0.0       0.0   \n",
      "2       0.0  0.000000  ...         0.0           0.0       0.0   \n",
      "3       0.0  0.000000  ...         0.0           0.0       0.0   \n",
      "4       0.0  0.035599  ...         0.0           0.0       0.0   \n",
      "\n",
      "   your_programming  your_strategic  your_time  your_usual  yourself  \\\n",
      "0               0.0             0.0        0.0         0.0       0.0   \n",
      "1               0.0             0.0        0.0         0.0       0.0   \n",
      "2               0.0             0.0        0.0         0.0       0.0   \n",
      "3               0.0             0.0        0.0         0.0       0.0   \n",
      "4               0.0             0.0        0.0         0.0       0.0   \n",
      "\n",
      "   yourself_going  yourselves  \n",
      "0             0.0         0.0  \n",
      "1             0.0         0.0  \n",
      "2             0.0         0.0  \n",
      "3             0.0         0.0  \n",
      "4             0.0         0.0  \n",
      "\n",
      "[5 rows x 8184 columns]\n"
     ]
    }
   ],
   "source": [
    "# Feature array\n",
    "print(features.head())"
   ]
  },
  {
   "cell_type": "code",
   "execution_count": 38,
   "metadata": {},
   "outputs": [],
   "source": [
    "from sklearn.metrics import confusion_matrix\n",
    "import seaborn as sns\n",
    "import importlib\n",
    "import config\n",
    "importlib.reload(config)\n",
    "from config import PALETTE\n",
    "\n",
    "def visualize_confusion_matrix(confusion):\n",
    "    sns.heatmap(confusion, annot = True, cmap=PALETTE, fmt=\"g\")\n",
    "    plt.xlabel(\"Predicted Class\")\n",
    "    plt.ylabel(\"True class\")\n",
    "    plt.show()"
   ]
  },
  {
   "cell_type": "code",
   "execution_count": 66,
   "metadata": {},
   "outputs": [
    {
     "data": {
      "image/png": "[encoded data removed]",
      "text/plain": [
       "<Figure size 432x288 with 2 Axes>"
      ]
     },
     "metadata": {
      "needs_background": "light"
     },
     "output_type": "display_data"
    },
    {
     "name": "stdout",
     "output_type": "stream",
     "text": [
      "0.25325325325325326\n"
     ]
    }
   ],
   "source": [
    "from sklearn.svm import SVC\n",
    "from sklearn.model_selection import cross_val_score, cross_val_predict\n",
    "from sklearn.metrics import accuracy_score\n",
    "\n",
    "y_pred = cross_val_predict(SVC(class_weight=\"balanced\", C=0.05), features, labels, cv = 5)\n",
    "visualize_confusion_matrix(confusion_matrix(labels, y_pred))\n",
    "print(accuracy_score(labels, y_pred))"
   ]
  },
  {
   "cell_type": "code",
   "execution_count": null,
   "metadata": {},
   "outputs": [],
   "source": [
    "from sklearn.neighbors import KNeighborsClassifier\n",
    "\n",
    "y_pred = cross_val_predict(KNeighborsClassifier(n_neighbors=3, weights=\"distance\"), features, labels, cv = 5)\n",
    "visualize_confusion_matrix(confusion_matrix(labels, y_pred))\n",
    "print(accuracy_score(labels, y_pred))"
   ]
  },
  {
   "cell_type": "code",
   "execution_count": null,
   "metadata": {},
   "outputs": [],
   "source": [
    "from sklearn.naive_bayes import GaussianNB\n",
    "\n",
    "y_pred = cross_val_predict(GaussianNB(), features, labels, cv = 5)\n",
    "visualize_confusion_matrix(confusion_matrix(labels, y_pred))\n",
    "print(accuracy_score(labels, y_pred))"
   ]
  }
 ],
 "metadata": {
  "interpreter": {
   "hash": "daa9625b8f58bb0d1614911a278160b2ea4fc8855d7594ccd7e1358f69e6912c"
  },
  "kernelspec": {
   "display_name": "Python 3.9.7 64-bit",
   "language": "python",
   "name": "python3"
  },
  "language_info": {
   "codemirror_mode": {
    "name": "ipython",
    "version": 3
   },
   "file_extension": ".py",
   "mimetype": "text/x-python",
   "name": "python",
   "nbconvert_exporter": "python",
   "pygments_lexer": "ipython3",
   "version": "3.9.7"
  },
  "orig_nbformat": 4
 },
 "nbformat": 4,
 "nbformat_minor": 2
}
