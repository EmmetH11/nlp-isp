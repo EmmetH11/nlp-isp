{
 "cells": [
  {
   "cell_type": "code",
   "execution_count": null,
   "metadata": {},
   "outputs": [],
   "source": [
    "import gzip\n",
    "import json\n",
    "from config import *\n",
    "\n",
    "# Read dataset from the file\n",
    "f = gzip.open(DATASET_PATH, \"r\")\n",
    "# Process the lines into a preliminary dictionary\n",
    "full_dataset = [json.loads(line) for line in f.readlines()]\n",
    "f.close()\n",
    "\n",
    "# -------------------------------\n",
    "# amazon data processing\n",
    "from amazon_processing import clean_dataset\n",
    "\n",
    "# process the data (lemmatize, feature generation)\n",
    "features, labels = clean_dataset(full_dataset, 5000)"
   ]
  },
  {
   "cell_type": "code",
   "execution_count": 14,
   "metadata": {},
   "outputs": [
    {
     "name": "stderr",
     "output_type": "stream",
     "text": [
      "C:\\Users\\Emmet\\AppData\\Local\\Programs\\Python\\Python37\\lib\\site-packages\\sklearn\\utils\\deprecation.py:87: FutureWarning: Function get_feature_names is deprecated; get_feature_names is deprecated in 1.0 and will be removed in 1.2. Please use get_feature_names_out instead.\n",
      "  warnings.warn(msg, category=FutureWarning)\n"
     ]
    },
    {
     "name": "stdout",
     "output_type": "stream",
     "text": [
      "FEATURE GENERATION TIME (depth=43339): 23912.805352211s\n"
     ]
    }
   ],
   "source": [
    "import gzip\n",
    "import json\n",
    "import pickle\n",
    "import importlib\n",
    "import config\n",
    "importlib.reload(config)\n",
    "from config import *\n",
    "from sklearn.feature_extraction.text import TfidfVectorizer\n",
    "import pandas as pd\n",
    "from autocorrect import Speller\n",
    "\n",
    "import time\n",
    "start = time.time()\n",
    "\n",
    "spell = Speller(lang='en')\n",
    "\n",
    "# Read dataset from the file\n",
    "f = gzip.open(BIGRAM_DATASET_PATH, \"r\")\n",
    "# Process the lines into a preliminary dictionary\n",
    "body = f.read().decode('utf8')\n",
    "lines = body.splitlines()\n",
    "f.close()\n",
    "\n",
    "depth = len(lines)\n",
    "\n",
    "raw = [{}]*len(lines)\n",
    "for i in range(1, min(depth, len(lines))):\n",
    "    bigrams = lines[i].split(\" \")\n",
    "    raw[i] = {}\n",
    "    for bigram in bigrams:\n",
    "            try:\n",
    "                colon = bigram.index(\":\")\n",
    "                key = bigram[:colon]\n",
    "                words = key.split(\"_\")\n",
    "                key = \"_\".join([spell(word) for word in words])\n",
    "                if not any(str.isdigit(c) for c in key):\n",
    "                    raw[i][key] = bigram[colon + 1:]\n",
    "            except:\n",
    "                continue\n",
    "labels = []\n",
    "lineDicts = []\n",
    "for line in raw:\n",
    "    try:\n",
    "        labels.append(float(line[\"#label#\"]))\n",
    "        del line[\"#label#\"]\n",
    "        lineDicts.append(line)\n",
    "    except KeyError:\n",
    "        continue\n",
    "\n",
    "lineStrings = []\n",
    "for i in range(0, len(lineDicts)):\n",
    "    linestr = \"\"\n",
    "    for key, value in lineDicts[i].items():\n",
    "        linestr += ((key + \" \")*int(value))\n",
    "    lineStrings.append(linestr)\n",
    "\n",
    "tfidf_vectorizer = TfidfVectorizer()\n",
    "bag_of_words = tfidf_vectorizer.fit_transform(lineStrings)\n",
    "feature_names = tfidf_vectorizer.get_feature_names()\n",
    "\n",
    "f = open(FEATURE_PATH, \"wb\")\n",
    "pickle.dump(bag_of_words, f)\n",
    "f.close()\n",
    "f = open(FEATURE_NAMES, \"w\")\n",
    "f.write(json.dumps(feature_names))\n",
    "f.close()\n",
    "\n",
    "# Converting the sparse matrix to dense runs out of memory\n",
    "# features = pd.DataFrame(bag_of_words.toarray(), columns = feature_names)\n",
    "\n",
    "print(\"FEATURE GENERATION TIME (depth=\", depth, \"): \", time.time() - start, \"s\", sep='')"
   ]
  },
  {
   "cell_type": "code",
   "execution_count": 15,
   "metadata": {},
   "outputs": [],
   "source": [
    "f = open(FEATURE_PATH, \"rb\")\n",
    "X = pickle.load(f)\n",
    "f.close()\n",
    "y = labels"
   ]
  },
  {
   "cell_type": "code",
   "execution_count": 19,
   "metadata": {},
   "outputs": [],
   "source": [
    "import config\n",
    "importlib.reload(config)\n",
    "from config import *\n",
    "\n",
    "f = open(LABELS, \"w\")\n",
    "f.write(json.dumps(labels))\n",
    "f.close()"
   ]
  },
  {
   "cell_type": "code",
   "execution_count": null,
   "metadata": {},
   "outputs": [],
   "source": [
    "import matplotlib.pyplot as plt \n",
    "# Visualize the ratings distribution\n",
    "plt.hist(labels, density=True, bins=10)\n",
    "plt.ylabel('Frequency')\n",
    "plt.xlabel('Rating')\n",
    "plt.show()"
   ]
  },
  {
   "cell_type": "code",
   "execution_count": null,
   "metadata": {},
   "outputs": [],
   "source": [
    "# Feature array\n",
    "print(features.head())"
   ]
  },
  {
   "cell_type": "code",
   "execution_count": 33,
   "metadata": {},
   "outputs": [],
   "source": [
    "from sklearn.metrics import confusion_matrix\n",
    "import seaborn as sns\n",
    "import importlib\n",
    "import config\n",
    "import matplotlib.pyplot as plt\n",
    "importlib.reload(config)\n",
    "from config import PALETTE\n",
    "\n",
    "def visualize_confusion_matrix(confusion):\n",
    "    sns.heatmap(confusion, annot = True, cmap=PALETTE, fmt=\"g\")\n",
    "    plt.xlim(0, 4)\n",
    "    plt.ylim(4, 0)\n",
    "    plt.xlabel(\"Predicted Class\")\n",
    "    plt.ylabel(\"True class\")\n",
    "    plt.show()"
   ]
  },
  {
   "cell_type": "code",
   "execution_count": 20,
   "metadata": {},
   "outputs": [
    {
     "ename": "NameError",
     "evalue": "name 'plt' is not defined",
     "output_type": "error",
     "traceback": [
      "\u001b[1;31m---------------------------------------------------------------------------\u001b[0m",
      "\u001b[1;31mNameError\u001b[0m                                 Traceback (most recent call last)",
      "\u001b[1;32m<ipython-input-20-bc9570883404>\u001b[0m in \u001b[0;36m<module>\u001b[1;34m\u001b[0m\n\u001b[0;32m      5\u001b[0m \u001b[1;31m#y_pred = cross_val_predict(SVC(class_weight=\"balanced\", C=0.05), X, y, cv = 5)\u001b[0m\u001b[1;33m\u001b[0m\u001b[1;33m\u001b[0m\u001b[1;33m\u001b[0m\u001b[0m\n\u001b[0;32m      6\u001b[0m \u001b[0my_pred\u001b[0m \u001b[1;33m=\u001b[0m \u001b[0mcross_val_predict\u001b[0m\u001b[1;33m(\u001b[0m\u001b[0mSVC\u001b[0m\u001b[1;33m(\u001b[0m\u001b[1;33m)\u001b[0m\u001b[1;33m,\u001b[0m \u001b[0mX\u001b[0m\u001b[1;33m,\u001b[0m \u001b[0my\u001b[0m\u001b[1;33m,\u001b[0m \u001b[0mcv\u001b[0m \u001b[1;33m=\u001b[0m \u001b[1;36m5\u001b[0m\u001b[1;33m)\u001b[0m\u001b[1;33m\u001b[0m\u001b[1;33m\u001b[0m\u001b[0m\n\u001b[1;32m----> 7\u001b[1;33m \u001b[0mvisualize_confusion_matrix\u001b[0m\u001b[1;33m(\u001b[0m\u001b[0mconfusion_matrix\u001b[0m\u001b[1;33m(\u001b[0m\u001b[0my\u001b[0m\u001b[1;33m,\u001b[0m \u001b[0my_pred\u001b[0m\u001b[1;33m)\u001b[0m\u001b[1;33m)\u001b[0m\u001b[1;33m\u001b[0m\u001b[1;33m\u001b[0m\u001b[0m\n\u001b[0m\u001b[0;32m      8\u001b[0m \u001b[0mprint\u001b[0m\u001b[1;33m(\u001b[0m\u001b[0maccuracy_score\u001b[0m\u001b[1;33m(\u001b[0m\u001b[0my\u001b[0m\u001b[1;33m,\u001b[0m \u001b[0my_pred\u001b[0m\u001b[1;33m)\u001b[0m\u001b[1;33m)\u001b[0m\u001b[1;33m\u001b[0m\u001b[1;33m\u001b[0m\u001b[0m\n",
      "\u001b[1;32m<ipython-input-17-fb5267c3f33a>\u001b[0m in \u001b[0;36mvisualize_confusion_matrix\u001b[1;34m(confusion)\u001b[0m\n\u001b[0;32m      8\u001b[0m \u001b[1;32mdef\u001b[0m \u001b[0mvisualize_confusion_matrix\u001b[0m\u001b[1;33m(\u001b[0m\u001b[0mconfusion\u001b[0m\u001b[1;33m)\u001b[0m\u001b[1;33m:\u001b[0m\u001b[1;33m\u001b[0m\u001b[1;33m\u001b[0m\u001b[0m\n\u001b[0;32m      9\u001b[0m     \u001b[0msns\u001b[0m\u001b[1;33m.\u001b[0m\u001b[0mheatmap\u001b[0m\u001b[1;33m(\u001b[0m\u001b[0mconfusion\u001b[0m\u001b[1;33m,\u001b[0m \u001b[0mannot\u001b[0m \u001b[1;33m=\u001b[0m \u001b[1;32mTrue\u001b[0m\u001b[1;33m,\u001b[0m \u001b[0mcmap\u001b[0m\u001b[1;33m=\u001b[0m\u001b[0mPALETTE\u001b[0m\u001b[1;33m,\u001b[0m \u001b[0mfmt\u001b[0m\u001b[1;33m=\u001b[0m\u001b[1;34m\"g\"\u001b[0m\u001b[1;33m)\u001b[0m\u001b[1;33m\u001b[0m\u001b[1;33m\u001b[0m\u001b[0m\n\u001b[1;32m---> 10\u001b[1;33m     \u001b[0mplt\u001b[0m\u001b[1;33m.\u001b[0m\u001b[0mxlabel\u001b[0m\u001b[1;33m(\u001b[0m\u001b[1;34m\"Predicted Class\"\u001b[0m\u001b[1;33m)\u001b[0m\u001b[1;33m\u001b[0m\u001b[1;33m\u001b[0m\u001b[0m\n\u001b[0m\u001b[0;32m     11\u001b[0m     \u001b[0mplt\u001b[0m\u001b[1;33m.\u001b[0m\u001b[0mylabel\u001b[0m\u001b[1;33m(\u001b[0m\u001b[1;34m\"True class\"\u001b[0m\u001b[1;33m)\u001b[0m\u001b[1;33m\u001b[0m\u001b[1;33m\u001b[0m\u001b[0m\n\u001b[0;32m     12\u001b[0m     \u001b[0mplt\u001b[0m\u001b[1;33m.\u001b[0m\u001b[0mshow\u001b[0m\u001b[1;33m(\u001b[0m\u001b[1;33m)\u001b[0m\u001b[1;33m\u001b[0m\u001b[1;33m\u001b[0m\u001b[0m\n",
      "\u001b[1;31mNameError\u001b[0m: name 'plt' is not defined"
     ]
    },
    {
     "data": {
      "image/png": "[encoded data removed]",
      "text/plain": [
       "<Figure size 432x288 with 2 Axes>"
      ]
     },
     "metadata": {
      "needs_background": "light"
     },
     "output_type": "display_data"
    }
   ],
   "source": [
    "from sklearn.svm import SVC\n",
    "from sklearn.model_selection import cross_val_score, cross_val_predict\n",
    "from sklearn.metrics import accuracy_score\n",
    "\n",
    "#y_pred = cross_val_predict(SVC(class_weight=\"balanced\", C=0.05), X, y, cv = 5)\n",
    "y_pred = cross_val_predict(SVC(), X, y, cv = 5)"
   ]
  },
  {
   "cell_type": "code",
   "execution_count": 34,
   "metadata": {},
   "outputs": [
    {
     "data": {
      "image/png": "[encoded data removed]",
      "text/plain": [
       "<Figure size 432x288 with 2 Axes>"
      ]
     },
     "metadata": {
      "needs_background": "light"
     },
     "output_type": "display_data"
    },
    {
     "name": "stdout",
     "output_type": "stream",
     "text": [
      "0.827099245448462\n"
     ]
    }
   ],
   "source": [
    "import config\n",
    "importlib.reload(config)\n",
    "from config import *\n",
    "\n",
    "f = open(PREDICTIONS, \"wb\")\n",
    "pickle.dump(y_pred, f)\n",
    "f.close()\n",
    "\n",
    "visualize_confusion_matrix(confusion_matrix(y, y_pred))\n",
    "print(accuracy_score(y, y_pred))"
   ]
  },
  {
   "cell_type": "code",
   "execution_count": 35,
   "metadata": {},
   "outputs": [],
   "source": [
    "import config\n",
    "importlib.reload(config)\n",
    "from config import *\n",
    "\n",
    "svc = SVC()\n",
    "svc.fit(X, y)\n",
    "\n",
    "f = open(SVC_PATH, \"wb\")\n",
    "pickle.dump(svc, f)\n",
    "f.close()\n",
    "\n",
    "f = open(TFID_PATH, \"wb\")\n",
    "pickle.dump(tfidf_vectorizer, f)\n",
    "f.close()"
   ]
  },
  {
   "cell_type": "code",
   "execution_count": 46,
   "metadata": {},
   "outputs": [
    {
     "data": {
      "text/plain": [
       "array([5.])"
      ]
     },
     "execution_count": 46,
     "metadata": {},
     "output_type": "execute_result"
    }
   ],
   "source": [
    "f = open(TFID_PATH, \"rb\")\n",
    "tfid = pickle.load(f)\n",
    "f.close()\n",
    "\n",
    "f = open(\"example_review.txt\", \"r\")\n",
    "body = f.read()\n",
    "f.close()\n",
    "\n",
    "import pipeline\n",
    "importlib.reload(pipeline)\n",
    "from pipeline import digest\n",
    "svc.predict(digest(body, tfid))"
   ]
  },
  {
   "cell_type": "code",
   "execution_count": null,
   "metadata": {},
   "outputs": [],
   "source": [
    "from sklearn.neighbors import KNeighborsClassifier\n",
    "\n",
    "y_pred = cross_val_predict(KNeighborsClassifier(n_neighbors=3, weights=\"distance\"), X, y, cv = 5)\n",
    "visualize_confusion_matrix(confusion_matrix(y, y_pred))\n",
    "print(accuracy_score(y, y_pred))"
   ]
  },
  {
   "cell_type": "code",
   "execution_count": null,
   "metadata": {},
   "outputs": [],
   "source": [
    "from sklearn.naive_bayes import GaussianNB\n",
    "\n",
    "y_pred = cross_val_predict(GaussianNB(), X, y, cv = 5)\n",
    "visualize_confusion_matrix(confusion_matrix(y, y_pred))\n",
    "print(accuracy_score(y, y_pred))"
   ]
  }
 ],
 "metadata": {
  "interpreter": {
   "hash": "daa9625b8f58bb0d1614911a278160b2ea4fc8855d7594ccd7e1358f69e6912c"
  },
  "kernelspec": {
   "display_name": "Python 3.9.7 64-bit",
   "language": "python",
   "name": "python3"
  },
  "language_info": {
   "codemirror_mode": {
    "name": "ipython",
    "version": 3
   },
   "file_extension": ".py",
   "mimetype": "text/x-python",
   "name": "python",
   "nbconvert_exporter": "python",
   "pygments_lexer": "ipython3",
   "version": "3.7.6"
  },
  "orig_nbformat": 4
 },
 "nbformat": 4,
 "nbformat_minor": 2
}
